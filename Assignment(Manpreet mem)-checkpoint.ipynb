{
 "cells": [
  {
   "cell_type": "code",
   "execution_count": 1,
   "id": "ffd92824",
   "metadata": {},
   "outputs": [],
   "source": [
    "# Array Operators"
   ]
  },
  {
   "cell_type": "code",
   "execution_count": 15,
   "id": "eb09f7f1",
   "metadata": {},
   "outputs": [
    {
     "name": "stdout",
     "output_type": "stream",
     "text": [
      "array('i', [1, 2, 4, 3, 6, 5, 7, 9, 8, 0])\n"
     ]
    }
   ],
   "source": [
    "#1\n",
    "import array\n",
    "from array import *\n",
    "arr=array('i',[1,2,4,3,6,5,7,9,8,0])\n",
    "print(arr)"
   ]
  },
  {
   "cell_type": "code",
   "execution_count": 16,
   "id": "7b0f3ffb",
   "metadata": {},
   "outputs": [
    {
     "name": "stdout",
     "output_type": "stream",
     "text": [
      "17\n"
     ]
    }
   ],
   "source": [
    "#2\n",
    "arr=array('i',[2,4,6,5])\n",
    "total_sum=sum(arr)\n",
    "print(total_sum)"
   ]
  },
  {
   "cell_type": "code",
   "execution_count": 17,
   "id": "4e9a6a96",
   "metadata": {},
   "outputs": [
    {
     "name": "stdout",
     "output_type": "stream",
     "text": [
      "4.0\n"
     ]
    }
   ],
   "source": [
    "#3\n",
    "arr=array('i',[3,6,4,5,2])\n",
    "total_sum=sum(arr)/len(arr)\n",
    "print(total_sum)\n"
   ]
  },
  {
   "cell_type": "code",
   "execution_count": 18,
   "id": "f18d311a",
   "metadata": {},
   "outputs": [
    {
     "name": "stdout",
     "output_type": "stream",
     "text": [
      "9\n"
     ]
    }
   ],
   "source": [
    "#4\n",
    "arr=array('i',[5,7,1,8,9])\n",
    "maximum=max(arr)\n",
    "print(maximum)"
   ]
  },
  {
   "cell_type": "code",
   "execution_count": 6,
   "id": "570f8918",
   "metadata": {},
   "outputs": [
    {
     "name": "stdout",
     "output_type": "stream",
     "text": [
      "1\n"
     ]
    }
   ],
   "source": [
    "arr=array('i',[5,7,1,8,9])\n",
    "minimum=min(arr)\n",
    "print(minimum)"
   ]
  },
  {
   "cell_type": "code",
   "execution_count": 7,
   "id": "9ce6c83d",
   "metadata": {},
   "outputs": [],
   "source": [
    "#Searching in Arrays"
   ]
  },
  {
   "cell_type": "code",
   "execution_count": 19,
   "id": "184221a9",
   "metadata": {},
   "outputs": [],
   "source": [
    "import array\n",
    "from array import*"
   ]
  },
  {
   "cell_type": "code",
   "execution_count": 20,
   "id": "c542b559",
   "metadata": {},
   "outputs": [
    {
     "name": "stdout",
     "output_type": "stream",
     "text": [
      "array('i', [1, 3, 2, 5, 7, 9, 0, 4, 12, 20, 22, 65, 25, 29, 35])\n"
     ]
    }
   ],
   "source": [
    "#1\n",
    "arr=array('i',[1,3,2,5,7,9,0,4,12,20,22,65,25,29,35])\n",
    "print(arr)"
   ]
  },
  {
   "cell_type": "code",
   "execution_count": 26,
   "id": "facdd48f",
   "metadata": {},
   "outputs": [
    {
     "name": "stdout",
     "output_type": "stream",
     "text": [
      "enter a number5\n",
      "yes it is exist\n"
     ]
    }
   ],
   "source": [
    "#2\n",
    "import array\n",
    "from array import *\n",
    "arr=array('i',[1,3,2,5,7,9,0,4,12,20,22,65,25,29,35])\n",
    "A=int(input(\"enter a number\"))\n",
    "def search_number(int):\n",
    "    \n",
    "    if A in arr:   \n",
    "        print(\"yes it is exist\")\n",
    "    else:\n",
    "        print(\"Number not available\")\n",
    "search_number(A)"
   ]
  },
  {
   "cell_type": "code",
   "execution_count": 19,
   "id": "635024dc",
   "metadata": {},
   "outputs": [],
   "source": [
    "# Array Sorting"
   ]
  },
  {
   "cell_type": "code",
   "execution_count": 27,
   "id": "4eb17044",
   "metadata": {},
   "outputs": [
    {
     "name": "stdout",
     "output_type": "stream",
     "text": [
      "array('i', [2, 1, 5, 8, 9, 0, 6, 20, 10, 15, 25, 7])\n"
     ]
    }
   ],
   "source": [
    "#1\n",
    "arr=array('i',[2,1,5,8,9,0,6,20,10,15,25,7])\n",
    "print(arr)"
   ]
  },
  {
   "cell_type": "code",
   "execution_count": 28,
   "id": "1696f9a8",
   "metadata": {},
   "outputs": [
    {
     "name": "stdout",
     "output_type": "stream",
     "text": [
      "array('i', [7, 25, 15, 10, 20, 6, 0, 9, 8, 5, 1, 2])\n"
     ]
    }
   ],
   "source": [
    "#2\n",
    "arr=array('i',[2,1,5,8,9,0,6,20,10,15,25,7])\n",
    "arr.reverse()\n",
    "print(arr)"
   ]
  },
  {
   "cell_type": "code",
   "execution_count": 4,
   "id": "9f996fa8",
   "metadata": {},
   "outputs": [],
   "source": [
    "#Array manipulation(List)"
   ]
  },
  {
   "cell_type": "code",
   "execution_count": 29,
   "id": "93abe808",
   "metadata": {},
   "outputs": [
    {
     "name": "stdout",
     "output_type": "stream",
     "text": [
      "['anant', 'gagan', 'ansh', 'ram', 'sudheer', 'hari', 'shyam', 'sumit']\n"
     ]
    }
   ],
   "source": [
    "#1\n",
    "L=[\"anant\",\"gagan\",\"ansh\",\"ram\",\"sudheer\",\"hari\",\"shyam\",\"sumit\"]\n",
    "print(L)"
   ]
  },
  {
   "cell_type": "code",
   "execution_count": 30,
   "id": "16c23b67",
   "metadata": {},
   "outputs": [
    {
     "name": "stdout",
     "output_type": "stream",
     "text": [
      "['anant', 'gagan', 'ansh', 'ram', 'sudheer', 'hari', 'shyam', 'sumit', 'rahul', 'gyani']\n"
     ]
    }
   ],
   "source": [
    "#2\n",
    "L1=[\"rahul\",\"gyani\"]\n",
    "L.extend(L1)\n",
    "print(L)"
   ]
  },
  {
   "cell_type": "code",
   "execution_count": 31,
   "id": "3189ead6",
   "metadata": {},
   "outputs": [
    {
     "name": "stdout",
     "output_type": "stream",
     "text": [
      "['anant', 'gagan', 'ansh', 'ram', 'kumar', 'hari', 'shyam', 'sumit']\n"
     ]
    }
   ],
   "source": [
    "#3\n",
    "L=[\"anant\",\"gagan\",\"ansh\",\"ram\",\"sudheer\",\"hari\",\"shyam\",\"sumit\"]\n",
    "index_replace=4\n",
    "new_string=\"kumar\"\n",
    "L[index_replace]=new_string\n",
    "print(L)"
   ]
  },
  {
   "cell_type": "code",
   "execution_count": 32,
   "id": "a63d6d27",
   "metadata": {},
   "outputs": [
    {
     "name": "stdout",
     "output_type": "stream",
     "text": [
      "['anant', 'gagan', 'ansh', 'ram', 'kumar', 'hari', 'shyam']\n"
     ]
    }
   ],
   "source": [
    "#4\n",
    "L.pop(7)\n",
    "print(L)"
   ]
  },
  {
   "cell_type": "code",
   "execution_count": 33,
   "id": "f3e0a455",
   "metadata": {},
   "outputs": [
    {
     "name": "stdout",
     "output_type": "stream",
     "text": [
      "['anant', 'gagan', 'ansh', 'ram', 'kumar', 'hari', 'shyam']\n"
     ]
    }
   ],
   "source": [
    "#5\n",
    "print(L)"
   ]
  },
  {
   "cell_type": "code",
   "execution_count": null,
   "id": "074d0b2d",
   "metadata": {},
   "outputs": [],
   "source": []
  }
 ],
 "metadata": {
  "kernelspec": {
   "display_name": "Python 3 (ipykernel)",
   "language": "python",
   "name": "python3"
  },
  "language_info": {
   "codemirror_mode": {
    "name": "ipython",
    "version": 3
   },
   "file_extension": ".py",
   "mimetype": "text/x-python",
   "name": "python",
   "nbconvert_exporter": "python",
   "pygments_lexer": "ipython3",
   "version": "3.11.5"
  }
 },
 "nbformat": 4,
 "nbformat_minor": 5
}
